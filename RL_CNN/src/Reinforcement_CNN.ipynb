{
 "cells": [
  {
   "cell_type": "code",
   "execution_count": 1,
   "id": "outside-herald",
   "metadata": {},
   "outputs": [
    {
     "name": "stderr",
     "output_type": "stream",
     "text": [
      "Using plaidml.keras.backend backend.\n"
     ]
    }
   ],
   "source": [
    "from selenium import webdriver\n",
    "from selenium.webdriver.common.keys import Keys\n",
    "from selenium.webdriver.support.ui import WebDriverWait\n",
    "from selenium.webdriver.common.by import By\n",
    "from selenium.webdriver.support import expected_conditions as EC\n",
    "from cv2 import cv2 as cv\n",
    "import os, pickle, shutil, json, sys\n",
    "os.environ[\"KERAS_BACKEND\"] = \"plaidml.keras.backend\"\n",
    "from keras.models import Sequential\n",
    "from keras.layers.core import Dense, Dropout, Activation, Flatten\n",
    "from keras.layers.convolutional import Conv2D, MaxPooling2D\n",
    "from keras.optimizers import SGD , Adam\n",
    "import numpy as np\n",
    "import random, time, collectionsd\n",
    "from collections import deque\n",
    "import pandas as pd\n",
    "from IPython.display import clear_output\n",
    "from IPython.core.display import display\n",
    "import matplotlib.pyplot as plt\n",
    "from PIL import Image, ImageGrab, ImageTk\n",
    "import keras.applications as kapp"
   ]
  },
  {
   "cell_type": "code",
   "execution_count": 4,
   "id": "deadly-glance",
   "metadata": {},
   "outputs": [],
   "source": [
    "# Define variable\n",
    "chrome_driver_path = \"../chrome_driver/chromedriver\"\n",
    "# game_url = \"http://localhost:8000/\"\n",
    "game_url = \"http://hausai.com/crossyroad/\"\n",
    "screenshot_output = \"../screenshot/input_state.png\"\n",
    "screenshot_path = \"../screenshot/\"\n",
    "object_path = \"../object/\"\n",
    "\n",
    "loss_file_path = \"../object/loss_df.csv\"\n",
    "actions_file_path = \"../object/actions_df.csv\"\n",
    "q_value_file_path = \"../object/q_values.csv\"\n",
    "scores_file_path = \"../object/scores_df.csv\"\n",
    "episode_file_path = \"../object/episode_df.csv\"\n",
    "log_file_path = \"../object/log_df.csv\"\n",
    "\n",
    "window_size_w = 1200\n",
    "window_size_h = 600\n",
    "\n",
    "ACTIONS = 4\n",
    "\n",
    "EXPLORE = 10000\n",
    "# OBSERVATION = 10\n",
    "OBSERVATION = 60000\n",
    "\n",
    "INITIAL_EPSILON = 1\n",
    "BATCH_SIZE = 64\n",
    "REPLAY_SIZE = 50000 \n",
    "\n",
    "EPISODES = 1000000\n",
    "\n",
    "LIMIT_STEP = 200\n",
    "\n",
    "# EXPLORE = int(sys.argv[1])\n",
    "# OBSERVATION = int(sys.argv[2])\n",
    "# INITIAL_EPSILON = float(sys.argv[3])\n",
    "# BATCH_SIZE = int(sys.argv[4])\n",
    "# REPLAY_SIZE = int(sys.argv[5])\n",
    "\n",
    "\n",
    "FINAL_EPSILON = 0.00001\n",
    "GAMMA = 0.7\n",
    "#FRAME_PER_ACTION = 1\n",
    "# LEARNING_RATE = 1e-4\n",
    "LEARNING_RATE = 0.0001\n",
    "img_rows , img_cols = 80,80\n",
    "img_channels = 4\n",
    "\n",
    "screenshot_80 = \"../screenshot/input_state_80.png\"\n",
    "screenshot_grey = \"../screenshot/input_state_grey.png\"\n",
    "screenshot_canny = \"../screenshot/input_state_canny.png\""
   ]
  },
  {
   "cell_type": "code",
   "execution_count": 3,
   "id": "sitting-summary",
   "metadata": {},
   "outputs": [],
   "source": [
    "def save_obj(obj, name ):\n",
    "    with open(object_path+ name + '.pkl', 'wb') as f:\n",
    "        pickle.dump(obj, f, pickle.HIGHEST_PROTOCOL)\n",
    "def load_obj(name ):\n",
    "    with open(object_path + name + '.pkl', 'rb') as f:\n",
    "        return pickle.load(f)"
   ]
  },
  {
   "cell_type": "code",
   "execution_count": 3,
   "id": "headed-champagne",
   "metadata": {},
   "outputs": [
    {
     "ename": "NameError",
     "evalue": "name 'loss_file_path' is not defined",
     "output_type": "error",
     "traceback": [
      "\u001b[0;31m---------------------------------------------------------------------------\u001b[0m",
      "\u001b[0;31mNameError\u001b[0m                                 Traceback (most recent call last)",
      "\u001b[0;32m<ipython-input-3-53f3c8a69a0d>\u001b[0m in \u001b[0;36m<module>\u001b[0;34m\u001b[0m\n\u001b[1;32m      1\u001b[0m \u001b[0;31m# Keep total loss from each state\u001b[0m\u001b[0;34m\u001b[0m\u001b[0;34m\u001b[0m\u001b[0;34m\u001b[0m\u001b[0m\n\u001b[0;32m----> 2\u001b[0;31m \u001b[0mloss_df\u001b[0m \u001b[0;34m=\u001b[0m \u001b[0mpd\u001b[0m\u001b[0;34m.\u001b[0m\u001b[0mread_csv\u001b[0m\u001b[0;34m(\u001b[0m\u001b[0mloss_file_path\u001b[0m\u001b[0;34m)\u001b[0m \u001b[0;32mif\u001b[0m \u001b[0mos\u001b[0m\u001b[0;34m.\u001b[0m\u001b[0mpath\u001b[0m\u001b[0;34m.\u001b[0m\u001b[0misfile\u001b[0m\u001b[0;34m(\u001b[0m\u001b[0mloss_file_path\u001b[0m\u001b[0;34m)\u001b[0m \u001b[0;32melse\u001b[0m \u001b[0mpd\u001b[0m\u001b[0;34m.\u001b[0m\u001b[0mDataFrame\u001b[0m\u001b[0;34m(\u001b[0m\u001b[0mcolumns\u001b[0m \u001b[0;34m=\u001b[0m\u001b[0;34m[\u001b[0m\u001b[0;34m'loss'\u001b[0m\u001b[0;34m]\u001b[0m\u001b[0;34m)\u001b[0m\u001b[0;34m\u001b[0m\u001b[0;34m\u001b[0m\u001b[0m\n\u001b[0m\u001b[1;32m      3\u001b[0m \u001b[0;31m# Keep score when our chicken is dead\u001b[0m\u001b[0;34m\u001b[0m\u001b[0;34m\u001b[0m\u001b[0;34m\u001b[0m\u001b[0m\n\u001b[1;32m      4\u001b[0m \u001b[0mscores_df\u001b[0m \u001b[0;34m=\u001b[0m \u001b[0mpd\u001b[0m\u001b[0;34m.\u001b[0m\u001b[0mread_csv\u001b[0m\u001b[0;34m(\u001b[0m\u001b[0mscores_file_path\u001b[0m\u001b[0;34m)\u001b[0m \u001b[0;32mif\u001b[0m \u001b[0mos\u001b[0m\u001b[0;34m.\u001b[0m\u001b[0mpath\u001b[0m\u001b[0;34m.\u001b[0m\u001b[0misfile\u001b[0m\u001b[0;34m(\u001b[0m\u001b[0mscores_file_path\u001b[0m\u001b[0;34m)\u001b[0m \u001b[0;32melse\u001b[0m \u001b[0mpd\u001b[0m\u001b[0;34m.\u001b[0m\u001b[0mDataFrame\u001b[0m\u001b[0;34m(\u001b[0m\u001b[0mcolumns\u001b[0m \u001b[0;34m=\u001b[0m \u001b[0;34m[\u001b[0m\u001b[0;34m'scores'\u001b[0m\u001b[0;34m]\u001b[0m\u001b[0;34m)\u001b[0m\u001b[0;34m\u001b[0m\u001b[0;34m\u001b[0m\u001b[0m\n\u001b[1;32m      5\u001b[0m \u001b[0;31m# Keep Action\u001b[0m\u001b[0;34m\u001b[0m\u001b[0;34m\u001b[0m\u001b[0;34m\u001b[0m\u001b[0m\n",
      "\u001b[0;31mNameError\u001b[0m: name 'loss_file_path' is not defined"
     ]
    }
   ],
   "source": [
    "# Keep total loss from each state\n",
    "loss_df = pd.read_csv(loss_file_path) if os.path.isfile(loss_file_path) else pd.DataFrame(columns =['loss'])\n",
    "# Keep score when our chicken is dead\n",
    "scores_df = pd.read_csv(scores_file_path) if os.path.isfile(scores_file_path) else pd.DataFrame(columns = ['scores'])\n",
    "# Keep Action\n",
    "actions_df = pd.read_csv(actions_file_path) if os.path.isfile(actions_file_path) else pd.DataFrame(columns = ['actions'])\n",
    "# Keep Q-values\n",
    "q_values_df = pd.read_csv(q_value_file_path) if os.path.isfile(q_value_file_path) else pd.DataFrame(columns = ['qvalues'])\n",
    "# Keep episode\n",
    "episode_df = pd.read_csv(episode_file_path) if os.path.isfile(episode_file_path) else pd.DataFrame(columns = ['episodes','score','steps','total_loss','average_loss','total_reward'])\n",
    "# Keep log\n",
    "log_df = pd.read_csv(log_file_path) if os.path.isfile(log_file_path) else pd.DataFrame(columns = ['episode','timestep','state','action_type','eps','action', 'reward','qmax','loss'])"
   ]
  },
  {
   "cell_type": "code",
   "execution_count": 5,
   "id": "understood-tokyo",
   "metadata": {},
   "outputs": [],
   "source": [
    "def init_cache():\n",
    "    save_obj(INITIAL_EPSILON,\"epsilon\")\n",
    "    t = 0\n",
    "    save_obj(t,\"time\")\n",
    "    BUFFER_EXP_REPLAY = deque()\n",
    "    save_obj(BUFFER_EXP_REPLAY,\"exp_replay\")\n",
    "    ep = 0\n",
    "    save_obj(ep,\"episode\")\n",
    "\n",
    "# Run for only first time \n",
    "# init_cache()"
   ]
  },
  {
   "cell_type": "code",
   "execution_count": 6,
   "id": "cubic-montreal",
   "metadata": {},
   "outputs": [],
   "source": [
    "class Game:\n",
    "    def __init__(self):\n",
    "#         self._options = webdriver.ChromeOptions()\n",
    "#         self._options.add_argument('--headless')\n",
    "#         self._options.add_argument('--no-sandbox')\n",
    "#         self._options.add_argument('--disable-dev-shm-usage')\n",
    "#         self._driver = webdriver.Chrome(chrome_driver_path, options=self._options)\n",
    "        self._driver = webdriver.Chrome(chrome_driver_path)\n",
    "        self._driver.set_window_position(0,0)\n",
    "        self._driver.set_window_size(window_size_w,window_size_h)\n",
    "        self._driver.get(game_url)\n",
    "\n",
    "    def press_up(self):\n",
    "        self._driver.find_element_by_id(\"forward\").send_keys(Keys.UP)\n",
    "\n",
    "    def press_down(self):\n",
    "        self._driver.find_element_by_id(\"backward\").send_keys(Keys.DOWN)\n",
    "\n",
    "    def press_left(self):\n",
    "        self._driver.find_element_by_id('left').send_keys(Keys.LEFT)\n",
    "\n",
    "    def press_right(self):\n",
    "        self._driver.find_element_by_id('right').send_keys(Keys.RIGHT)\n",
    "\n",
    "    def get_score(self):\n",
    "        return int(self._driver.find_element_by_id('counter').text)\n",
    "\n",
    "    def get_crashed(self):\n",
    "        self.element = self._driver.find_element_by_id('retry')\n",
    "        return self.element.is_displayed()\n",
    "    \n",
    "    def click_pause(self):\n",
    "         self._driver.find_element_by_id(\"Pause\").click()\n",
    "\n",
    "    def click_resume(self):\n",
    "         self._driver.find_element_by_id(\"Resume\").click()\n",
    "    \n",
    "           \n",
    "    def restart_game(self):\n",
    "\n",
    "        time.sleep(0.2)\n",
    "        # Reset game by refreshing the browser\n",
    "        self._driver.refresh()\n",
    "        #WebDriverWait(self._driver, 5).until(EC.element_to_be_clickable((By.ID, \"retry\"))).click()\n",
    "    \n",
    "    def end(self):\n",
    "        self._driver.close()\n",
    "\n",
    "class MyChicken:\n",
    "    def __init__(self,game):\n",
    "        self._game = game\n",
    "\n",
    "    def forward(self):\n",
    "        self._game.press_up()\n",
    "   \n",
    "    def backward(self):\n",
    "        self._game.press_down()\n",
    "\n",
    "    def left(self):\n",
    "        self._game.press_left()\n",
    "\n",
    "    def right(self):\n",
    "        self._game.press_right()\n",
    "\n",
    "    def is_crashed(self):\n",
    "        return self._game.get_crashed()\n",
    "\n",
    "class Game_state:\n",
    "    def __init__(self,agent,game):\n",
    "        self._agent = agent\n",
    "        self._game = game\n",
    "\n",
    "    def get_state(self,actions):\n",
    "        is_over = False\n",
    "        game_score = self._game.get_score()\n",
    "        reward = 0\n",
    "        \n",
    "        if int(actions[0]) == 1:\n",
    "            self._agent.forward()\n",
    "            actions_df.loc[len(actions_df)] = 0\n",
    "            reward = reward + 0.5+(0.1*game_score)\n",
    "\n",
    "            \n",
    "        if int(actions[1]) == 1:\n",
    "            self._agent.left()\n",
    "            actions_df.loc[len(actions_df)] = 1\n",
    "            reward = reward + (0.1*game_score) - 0.1\n",
    "            \n",
    "        if int(actions[2]) == 1:\n",
    "            self._agent.right()\n",
    "            actions_df.loc[len(actions_df)] = 2\n",
    "            reward = reward + (0.1*game_score) - 0.1\n",
    "#             reward-=0.1 \n",
    "\n",
    "        if int(actions[3]) == 1:\n",
    "            self._agent.backward()\n",
    "            actions_df.loc[len(actions_df)] = 3\n",
    "            reward = reward + (0.1*game_score) - 0.2\n",
    "#             reward-=5\n",
    "       \n",
    "#         time.sleep(0.5)\n",
    "       # Mean: our chicken is dead\n",
    "        \n",
    "        \n",
    "        time.sleep(0.5)\n",
    "        done = self._agent.is_crashed()\n",
    "        if done == True:\n",
    "            # get the last score\n",
    "            game_score = self._game.get_score()\n",
    "            scores_df.loc[len(scores_df)] = game_score \n",
    "            # we will restart the game\n",
    "            self._game.restart_game()\n",
    "            # give penalty when it dead\n",
    "            if game_score != 0:\n",
    "                reward = reward - (11/game_score)\n",
    "            else:\n",
    "                reward = -1\n",
    "            \n",
    "            \n",
    "        \n",
    "#         if self._agent.is_crashed():\n",
    "#             game_score = self._game.get_score()\n",
    "#             scores_df.loc[len(scores_df)] = game_score \n",
    "# #             self._game.restart_game()\n",
    "#             reward = reward - (11/game_score)\n",
    "#             is_over = True\n",
    "          \n",
    "        image = grab_screen(self._game._driver)\n",
    "        return image, reward, done, game_score\n",
    "\n",
    "\n",
    "def grab_screen(_driver):\n",
    "    _driver.save_screenshot(screenshot_output)\n",
    "    image = processing_image()\n",
    "\n",
    "    return image\n",
    "def processing_image():\n",
    "    image = cv.imread(screenshot_output)\n",
    "#     image = image[100:830, 850:1580]\n",
    "#     image = image[240:650, 1000:1400] \n",
    "    image = image[100:800, 850:1550] \n",
    "    image = cv.resize(image, (80,80))\n",
    "    cv.imwrite(screenshot_80, image) \n",
    "    image = cv.cvtColor(image, cv.COLOR_BGR2GRAY)\n",
    "    cv.imwrite(screenshot_grey, image)\n",
    "    image = cv.Canny(image, threshold1 = 100, threshold2 = 200) \n",
    "    cv.imwrite(screenshot_canny, image)\n",
    "#     image = image/255\n",
    "    image = (image - image.mean()) / (image.std() + 1e-8)\n",
    "    return image\n",
    "\n",
    "def image_render():         \n",
    "    listOfImageNames = [screenshot_80,screenshot_grey,screenshot_canny]\n",
    "#     listOfImageNames = [screenshot_80,screenshot_canny]\n",
    "    for imageName in listOfImageNames:\n",
    "        display(Image.open(imageName))\n",
    "        \n",
    "def CNN_MODEL():\n",
    "    model = Sequential()\n",
    "    model.add(Conv2D(32, (8, 8), padding='same',strides=(4, 4),input_shape=(img_cols,img_rows,img_channels)))\n",
    "    model.add(MaxPooling2D(pool_size=(2,2)))\n",
    "    model.add(Activation('relu'))\n",
    "    model.add(Conv2D(64, (4, 4),strides=(2, 2),  padding='same'))\n",
    "    model.add(MaxPooling2D(pool_size=(2,2)))\n",
    "    model.add(Activation('relu'))\n",
    "    model.add(Conv2D(64, (3, 3),strides=(1, 1),  padding='same'))\n",
    "    model.add(MaxPooling2D(pool_size=(2,2)))\n",
    "    model.add(Activation('relu'))\n",
    "    model.add(Flatten())\n",
    "    model.add(Dense(256))\n",
    "    model.add(Activation('relu'))\n",
    "    model.add(Dense(ACTIONS))\n",
    "    adam = Adam(lr=LEARNING_RATE)\n",
    "    model.compile(loss='mse',optimizer=adam)\n",
    "    model.save_weights(object_path+'model.h5')\n",
    "\n",
    "    return model\n",
    "\n",
    "def sampling_batch(model,buffer,BATCH_SIZE, GAMMA, inputs, targets, loss):\n",
    "    minibatch = random.sample(buffer, BATCH_SIZE)\n",
    "\n",
    "    for i in range(0, len(minibatch)):\n",
    "        state_t = minibatch[i][0]    \n",
    "        action_t = minibatch[i][1]   \n",
    "        reward_t = minibatch[i][2]\n",
    "        is_over = minibatch[i][3]\n",
    "        state_t1 = minibatch[i][4]   \n",
    "        \n",
    "\n",
    "        inputs[i:i + 1] = state_t \n",
    "\n",
    "        temp_target = model.predict(state_t)\n",
    "        # Normalize q value in list to range between 0 and 1\n",
    "        norm_target = np.linalg.norm(temp_target)\n",
    "        normal_target_array = temp_target/norm_target\n",
    "        targets[i] = normal_target_array\n",
    "        \n",
    "#         print(\"temp target\")\n",
    "#         print(temp_target)\n",
    "#         print(\"target normalize\")\n",
    "#         print(normal_target_array)\n",
    "        \n",
    "        \n",
    "        temp_nextstate = model.predict(state_t1)\n",
    "        # Normalize q value in list to range between 0 and 1\n",
    "        norm_target_next_state = np.linalg.norm(temp_nextstate)\n",
    "        normal_next_array = temp_nextstate/norm_target_next_state\n",
    "        Q_sa = normal_next_array\n",
    "        \n",
    "#         print(\"temp next target\")\n",
    "#         print(temp_nextstate)\n",
    "#         print(\"target next normalize\")\n",
    "#         print(normal_next_array)\n",
    "        \n",
    "        \n",
    "\n",
    "        if is_over:\n",
    "            targets[i, action_t] = reward_t\n",
    "        else:\n",
    "#             print(Q_sa)\n",
    "#             print(Q_sa[0][0])\n",
    "#             print(np.max(Q_sa))\n",
    "            targets[i, action_t] = reward_t + GAMMA * np.max(Q_sa)\n",
    "    loss_return = model.train_on_batch(inputs,targets)\n",
    "    return loss_return, np.max(Q_sa)\n",
    "\n"
   ]
  },
  {
   "cell_type": "code",
   "execution_count": 7,
   "id": "worldwide-heaven",
   "metadata": {},
   "outputs": [],
   "source": [
    "def train_NN(model,game_state,observe=False):\n",
    "    \n",
    "    cur_ep = load_obj(\"episode\") + 1\n",
    "    # We will train as episode\n",
    "    for episode in range(cur_ep,EPISODES):\n",
    "        \n",
    "        \n",
    "        print(f\"----------------------------EPISODE {episode} --------------------------\")\n",
    "       \n",
    "        # Reset Environment\n",
    "#         game_state._game.restart_game()\n",
    "        \n",
    "        # Load experince\n",
    "        # Load the past experience that we store the previous action\n",
    "        buffer = load_obj(\"exp_replay\")\n",
    "\n",
    "        # Declare array of action\n",
    "        array_of_actions = np.zeros(ACTIONS)\n",
    "        # Clear all screenshot from the prevous episode\n",
    "\n",
    "\n",
    "        t = load_obj(\"time\")\n",
    "\n",
    "        # Every episode, clear everything out\n",
    "        shutil.rmtree(screenshot_path)\n",
    "        os.mkdir(screenshot_path)\n",
    "\n",
    "        # Make capture screen for every state \n",
    "        # Initial state by doing nothing  \n",
    "        image, reward, is_over, game_score = game_state.get_state(array_of_actions)\n",
    "        print(\"Initial state\")\n",
    "    \n",
    "\n",
    "        # Convert image into 4 stack frames\n",
    "        s_t = np.stack((image,image,image,image), axis=2)\n",
    "        s_t = s_t.reshape(1,s_t.shape[0],s_t.shape[1], s_t.shape[2])\n",
    "        initial_state = s_t\n",
    "        \n",
    "        # Load model weight that we have already updated from the previous round\n",
    "        model.load_weights(object_path+\"model.h5\")\n",
    "        adam = Adam(lr=LEARNING_RATE)\n",
    "        model.compile(loss='mse',optimizer=adam)\n",
    "\n",
    "        if observe :\n",
    "            state = \"Observe\"\n",
    "            OBSERVE = 999999999  \n",
    "            # Set epsilon to very low score --> so that tend to use Q value\n",
    "            epsilon = FINAL_EPSILON      \n",
    "        else:\n",
    "            state = \"training\"      \n",
    "            # Now we start to do training mode \n",
    "            OBSERVE = OBSERVATION\n",
    "            # Download the previous epsilon to train more\n",
    "            epsilon = load_obj(\"epsilon\") \n",
    "        \n",
    "        done = False\n",
    "        chick_step = 0\n",
    "        loss = 0\n",
    "        total_rewards = 0 \n",
    "        \n",
    "        while(done != True):\n",
    "            loss_return = 0\n",
    "            \n",
    "            array_of_actions = np.zeros(ACTIONS)\n",
    "            \n",
    "            if random.random() < epsilon:\n",
    "                action_index = random.randrange(ACTIONS)\n",
    "                q_value = np.zeros(ACTIONS)\n",
    "                array_of_actions[action_index] = 1\n",
    "                result_model = \"Random\"\n",
    "            else:\n",
    "                q_value = model.predict(s_t)\n",
    "                norm_target_next_state = np.linalg.norm(q_value)\n",
    "                q_value = q_value/norm_target_next_state\n",
    "                action_index = np.argmax(q_value)\n",
    "                array_of_actions[action_index] = 1\n",
    "                result_model = \"Max Q\"\n",
    "                    \n",
    "            if epsilon > FINAL_EPSILON and t > OBSERVE:\n",
    "                epsilon -= (INITIAL_EPSILON - FINAL_EPSILON) / EXPLORE \n",
    "                \n",
    "#              Feed new image\n",
    "            image, reward, is_over, game_score = game_state.get_state(array_of_actions)\n",
    "            image = image.reshape(1, image.shape[0], image.shape[1], 1)  # 1x80x80x1\n",
    "            # append the new image to input stack and remove the first one\n",
    "            s_t_new = np.append(image, s_t[:, :, :, :3],axis=3) #1*80*80*4\n",
    "\n",
    "#             # Prepare for the next state\n",
    "#             s_t_new = np.stack((image,image,image,image), axis=2)\n",
    "#             s_t_new = s_t_new.reshape(1,s_t_new.shape[0],s_t_new.shape[1], s_t_new.shape[2])          \n",
    "            \n",
    "\n",
    "            # Need to save the past experince into buffer\n",
    "            if len(buffer) > REPLAY_SIZE:\n",
    "                buffer.popleft()\n",
    "\n",
    "            # Save the past experience in the buffer then we will use it rather for training on batch\n",
    "            buffer.append((s_t,action_index,reward,is_over,s_t_new))         \n",
    "\n",
    "            \n",
    "            \n",
    "            if (t > OBSERVE) :       \n",
    "                print(\"We are doing the updated weight by sampling on batch\")\n",
    "                inputs = np.zeros((BATCH_SIZE, s_t.shape[1], s_t.shape[2], s_t.shape[3]))\n",
    "                targets = np.zeros((inputs.shape[0], ACTIONS))\n",
    "                loss_return, max_q = sampling_batch(model,buffer,BATCH_SIZE, GAMMA, inputs, targets, loss)\n",
    "                loss+=loss_return\n",
    "                loss_df.loc[len(loss_df)] = loss\n",
    "                q_values_df.loc[len(q_values_df)] = max_q\n",
    "                \n",
    "            if (t % 500 == 0):\n",
    "                print(\"Now we save model\")\n",
    "                model.save_weights(object_path+\"model.h5\", overwrite=True)\n",
    "                save_obj(buffer,\"exp_replay\") #saving episodes\n",
    "                save_obj(epsilon,\"epsilon\") #cache epsilon to avoid repeated randomness in actions\n",
    "                loss_df.to_csv(loss_file_path,index=False)\n",
    "                scores_df.to_csv(scores_file_path,index=False)\n",
    "                actions_df.to_csv(actions_file_path,index=False)\n",
    "                q_values_df.to_csv(q_value_file_path,index=False)\n",
    "                log_df.to_csv(log_file_path,index=False)\n",
    "                with open(object_path+\"model.json\", \"w\") as outfile:\n",
    "                    json.dump(model.to_json(), outfile)\n",
    "                              \n",
    "            if (is_over):\n",
    "                done=True\n",
    "                score = game_score\n",
    "            if (chick_step > LIMIT_STEP):\n",
    "                done=True\n",
    "                score = game_score\n",
    "            chick_step+=1\n",
    "            total_rewards+=reward\n",
    "            \n",
    "            if t% 20 == 0:\n",
    "                clear_output()\n",
    "                \n",
    "            save_obj(t,\"time\") #caching time steps\n",
    "            \n",
    "            log_out = \"TIMESTEP:\" + str(t) + \" STATE:\" + state + \" ACTION_TYPE:\" + result_model + \" EPSILON:\" + str(epsilon) + \" ACTION:\" + str(action_index) + \" REWARD:\" + str(reward) + \" Q_MAX:\" + str(np.max(q_value)) + \" Loss:\" + str(loss_return) \n",
    "            print(log_out)\n",
    "            image_render()\n",
    "            \n",
    "            \n",
    "            log_df.loc[len(log_df)] = {'episode':episode,'timestep':t,'state':state,'action_type':result_model,'eps':epsilon,'action':action_index, 'reward':reward,'qmax':np.max(q_value),'loss':loss_return}\n",
    "\n",
    "            s_t = initial_state if is_over else s_t_new\n",
    "            t+=1\n",
    "            \n",
    "        \n",
    "        print(\"Now we save episode\")    \n",
    "        episode_df.loc[len(episode_df)] = {'episodes':episode,'score':score,'steps':chick_step,'total_loss':loss,'average_loss':(loss/chick_step),'total_reward':total_rewards}\n",
    "        episode_df.to_csv(episode_file_path,index=False)\n",
    "        \n",
    "        save_obj(episode,\"episode\")\n",
    "\n",
    "    print(\"EPISODE END -----------------------------------------\")\n",
    "    game.end()\n",
    "\n"
   ]
  },
  {
   "cell_type": "code",
   "execution_count": 8,
   "id": "bacterial-creature",
   "metadata": {},
   "outputs": [
    {
     "name": "stderr",
     "output_type": "stream",
     "text": [
      "INFO:plaidml:Opening device \"metal_intel(r)_iris(tm)_graphics_6100.0\"\n"
     ]
    }
   ],
   "source": [
    "game = Game()\n",
    "chicken = MyChicken(game)\n",
    "game_state = Game_state(chicken,game)\n",
    "model = CNN_MODEL()"
   ]
  },
  {
   "cell_type": "code",
   "execution_count": 9,
   "id": "necessary-enhancement",
   "metadata": {
    "scrolled": true
   },
   "outputs": [
    {
     "name": "stdout",
     "output_type": "stream",
     "text": [
      "TIMESTEP:75640 STATE:training ACTION_TYPE:Random EPSILON:0.8691013089999774 ACTION:2 REWARD:0.0 Q_MAX:0.0 Loss:0.00692291\n"
     ]
    },
    {
     "data": {
      "image/png": "[encoded data removed]",
      "text/plain": [
       "<PIL.PngImagePlugin.PngImageFile image mode=RGB size=80x80 at 0x7FAF942FFC70>"
      ]
     },
     "metadata": {},
     "output_type": "display_data"
    },
    {
     "data": {
      "image/png": "[encoded data removed]",
      "text/plain": [
       "<PIL.PngImagePlugin.PngImageFile image mode=L size=80x80 at 0x7FAF22FBB340>"
      ]
     },
     "metadata": {},
     "output_type": "display_data"
    },
    {
     "data": {
      "image/png": "[encoded data removed]",
      "text/plain": [
       "<PIL.PngImagePlugin.PngImageFile image mode=L size=80x80 at 0x7FAFC03D9340>"
      ]
     },
     "metadata": {},
     "output_type": "display_data"
    },
    {
     "name": "stdout",
     "output_type": "stream",
     "text": [
      "We are doing the updated weight by sampling on batch\n",
      "TIMESTEP:75641 STATE:training ACTION_TYPE:Random EPSILON:0.8690013099999774 ACTION:1 REWARD:0.0 Q_MAX:0.0 Loss:0.007785677\n"
     ]
    },
    {
     "data": {
      "image/png": "[encoded data removed]",
      "text/plain": [
       "<PIL.PngImagePlugin.PngImageFile image mode=RGB size=80x80 at 0x7FAF236D6550>"
      ]
     },
     "metadata": {},
     "output_type": "display_data"
    },
    {
     "data": {
      "image/png": "[encoded data removed]",
      "text/plain": [
       "<PIL.PngImagePlugin.PngImageFile image mode=L size=80x80 at 0x7FAFC03D9340>"
      ]
     },
     "metadata": {},
     "output_type": "display_data"
    },
    {
     "data": {
      "image/png": "[encoded data removed]",
      "text/plain": [
       "<PIL.PngImagePlugin.PngImageFile image mode=L size=80x80 at 0x7FAF236D6A00>"
      ]
     },
     "metadata": {},
     "output_type": "display_data"
    },
    {
     "name": "stdout",
     "output_type": "stream",
     "text": [
      "We are doing the updated weight by sampling on batch\n",
      "TIMESTEP:75642 STATE:training ACTION_TYPE:Random EPSILON:0.8689013109999774 ACTION:2 REWARD:0.0 Q_MAX:0.0 Loss:0.0077983816\n"
     ]
    },
    {
     "data": {
      "image/png": "[encoded data removed]",
      "text/plain": [
       "<PIL.PngImagePlugin.PngImageFile image mode=RGB size=80x80 at 0x7FAFC03D9340>"
      ]
     },
     "metadata": {},
     "output_type": "display_data"
    },
    {
     "data": {
      "image/png": "[encoded data removed]",
      "text/plain": [
       "<PIL.PngImagePlugin.PngImageFile image mode=L size=80x80 at 0x7FAF22FBBC40>"
      ]
     },
     "metadata": {},
     "output_type": "display_data"
    },
    {
     "data": {
      "image/png": "[encoded data removed]",
      "text/plain": [
       "<PIL.PngImagePlugin.PngImageFile image mode=L size=80x80 at 0x7FAFBD4CFA60>"
      ]
     },
     "metadata": {},
     "output_type": "display_data"
    },
    {
     "name": "stdout",
     "output_type": "stream",
     "text": [
      "We are doing the updated weight by sampling on batch\n",
      "TIMESTEP:75643 STATE:training ACTION_TYPE:Max Q EPSILON:0.8688013119999773 ACTION:0 REWARD:0.6 Q_MAX:0.7041047 Loss:0.007978241\n"
     ]
    },
    {
     "data": {
      "image/png": "[encoded data removed]",
      "text/plain": [
       "<PIL.PngImagePlugin.PngImageFile image mode=RGB size=80x80 at 0x7FAF236BCE50>"
      ]
     },
     "metadata": {},
     "output_type": "display_data"
    },
    {
     "data": {
      "image/png": "[encoded data removed]",
      "text/plain": [
       "<PIL.PngImagePlugin.PngImageFile image mode=L size=80x80 at 0x7FAF236BCFA0>"
      ]
     },
     "metadata": {},
     "output_type": "display_data"
    },
    {
     "data": {
      "image/png": "[encoded data removed]",
      "text/plain": [
       "<PIL.PngImagePlugin.PngImageFile image mode=L size=80x80 at 0x7FAFBD4CF9D0>"
      ]
     },
     "metadata": {},
     "output_type": "display_data"
    },
    {
     "name": "stdout",
     "output_type": "stream",
     "text": [
      "We are doing the updated weight by sampling on batch\n",
      "TIMESTEP:75644 STATE:training ACTION_TYPE:Random EPSILON:0.8687013129999773 ACTION:0 REWARD:0.7 Q_MAX:0.0 Loss:0.0064716116\n"
     ]
    },
    {
     "data": {
      "image/png": "[encoded data removed]",
      "text/plain": [
       "<PIL.PngImagePlugin.PngImageFile image mode=RGB size=80x80 at 0x7FAFC03D97C0>"
      ]
     },
     "metadata": {},
     "output_type": "display_data"
    },
    {
     "data": {
      "image/png": "[encoded data removed]",
      "text/plain": [
       "<PIL.PngImagePlugin.PngImageFile image mode=L size=80x80 at 0x7FAFC03D9C10>"
      ]
     },
     "metadata": {},
     "output_type": "display_data"
    },
    {
     "data": {
      "image/png": "[encoded data removed]",
      "text/plain": [
       "<PIL.PngImagePlugin.PngImageFile image mode=L size=80x80 at 0x7FAF236BC7C0>"
      ]
     },
     "metadata": {},
     "output_type": "display_data"
    },
    {
     "name": "stdout",
     "output_type": "stream",
     "text": [
      "We are doing the updated weight by sampling on batch\n",
      "TIMESTEP:75645 STATE:training ACTION_TYPE:Random EPSILON:0.8686013139999773 ACTION:1 REWARD:0.20000000000000004 Q_MAX:0.0 Loss:0.006805538\n"
     ]
    },
    {
     "data": {
      "image/png": "[encoded data removed]",
      "text/plain": [
       "<PIL.PngImagePlugin.PngImageFile image mode=RGB size=80x80 at 0x7FAFC03D97C0>"
      ]
     },
     "metadata": {},
     "output_type": "display_data"
    },
    {
     "data": {
      "image/png": "[encoded data removed]",
      "text/plain": [
       "<PIL.PngImagePlugin.PngImageFile image mode=L size=80x80 at 0x7FAFBD4CFA60>"
      ]
     },
     "metadata": {},
     "output_type": "display_data"
    },
    {
     "data": {
      "image/png": "[encoded data removed]",
      "text/plain": [
       "<PIL.PngImagePlugin.PngImageFile image mode=L size=80x80 at 0x7FAF236BCFA0>"
      ]
     },
     "metadata": {},
     "output_type": "display_data"
    },
    {
     "name": "stdout",
     "output_type": "stream",
     "text": [
      "We are doing the updated weight by sampling on batch\n",
      "TIMESTEP:75646 STATE:training ACTION_TYPE:Random EPSILON:0.8685013149999773 ACTION:3 REWARD:0.10000000000000003 Q_MAX:0.0 Loss:0.008535285\n"
     ]
    },
    {
     "data": {
      "image/png": "[encoded data removed]",
      "text/plain": [
       "<PIL.PngImagePlugin.PngImageFile image mode=RGB size=80x80 at 0x7FAFA7619340>"
      ]
     },
     "metadata": {},
     "output_type": "display_data"
    },
    {
     "data": {
      "image/png": "[encoded data removed]",
      "text/plain": [
       "<PIL.PngImagePlugin.PngImageFile image mode=L size=80x80 at 0x7FAF236D6A00>"
      ]
     },
     "metadata": {},
     "output_type": "display_data"
    },
    {
     "data": {
      "image/png": "[encoded data removed]",
      "text/plain": [
       "<PIL.PngImagePlugin.PngImageFile image mode=L size=80x80 at 0x7FAF64F011F0>"
      ]
     },
     "metadata": {},
     "output_type": "display_data"
    },
    {
     "name": "stdout",
     "output_type": "stream",
     "text": [
      "We are doing the updated weight by sampling on batch\n",
      "TIMESTEP:75647 STATE:training ACTION_TYPE:Random EPSILON:0.8684013159999773 ACTION:2 REWARD:0.1 Q_MAX:0.0 Loss:0.008489007\n"
     ]
    },
    {
     "data": {
      "image/png": "[encoded data removed]",
      "text/plain": [
       "<PIL.PngImagePlugin.PngImageFile image mode=RGB size=80x80 at 0x7FAF236D6BE0>"
      ]
     },
     "metadata": {},
     "output_type": "display_data"
    },
    {
     "data": {
      "image/png": "[encoded data removed]",
      "text/plain": [
       "<PIL.PngImagePlugin.PngImageFile image mode=L size=80x80 at 0x7FAF64F011F0>"
      ]
     },
     "metadata": {},
     "output_type": "display_data"
    },
    {
     "data": {
      "image/png": "[encoded data removed]",
      "text/plain": [
       "<PIL.PngImagePlugin.PngImageFile image mode=L size=80x80 at 0x7FAFBD4CFA60>"
      ]
     },
     "metadata": {},
     "output_type": "display_data"
    },
    {
     "name": "stdout",
     "output_type": "stream",
     "text": [
      "We are doing the updated weight by sampling on batch\n",
      "TIMESTEP:75648 STATE:training ACTION_TYPE:Random EPSILON:0.8683013169999773 ACTION:3 REWARD:0.0 Q_MAX:0.0 Loss:0.0074411985\n"
     ]
    },
    {
     "data": {
      "image/png": "[encoded data removed]",
      "text/plain": [
       "<PIL.PngImagePlugin.PngImageFile image mode=RGB size=80x80 at 0x7FAF236D6BE0>"
      ]
     },
     "metadata": {},
     "output_type": "display_data"
    },
    {
     "data": {
      "image/png": "[encoded data removed]",
      "text/plain": [
       "<PIL.PngImagePlugin.PngImageFile image mode=L size=80x80 at 0x7FAF236D6B20>"
      ]
     },
     "metadata": {},
     "output_type": "display_data"
    },
    {
     "data": {
      "image/png": "[encoded data removed]",
      "text/plain": [
       "<PIL.PngImagePlugin.PngImageFile image mode=L size=80x80 at 0x7FAF236D6A00>"
      ]
     },
     "metadata": {},
     "output_type": "display_data"
    },
    {
     "name": "stdout",
     "output_type": "stream",
     "text": [
      "We are doing the updated weight by sampling on batch\n",
      "TIMESTEP:75649 STATE:training ACTION_TYPE:Random EPSILON:0.8682013179999772 ACTION:1 REWARD:0.1 Q_MAX:0.0 Loss:0.008492235\n"
     ]
    },
    {
     "data": {
      "image/png": "[encoded data removed]",
      "text/plain": [
       "<PIL.PngImagePlugin.PngImageFile image mode=RGB size=80x80 at 0x7FAF64F011F0>"
      ]
     },
     "metadata": {},
     "output_type": "display_data"
    },
    {
     "data": {
      "image/png": "[encoded data removed]",
      "text/plain": [
       "<PIL.PngImagePlugin.PngImageFile image mode=L size=80x80 at 0x7FAF236BCD00>"
      ]
     },
     "metadata": {},
     "output_type": "display_data"
    },
    {
     "data": {
      "image/png": "[encoded data removed]",
      "text/plain": [
       "<PIL.PngImagePlugin.PngImageFile image mode=L size=80x80 at 0x7FAF236BCE50>"
      ]
     },
     "metadata": {},
     "output_type": "display_data"
    },
    {
     "name": "stdout",
     "output_type": "stream",
     "text": [
      "We are doing the updated weight by sampling on batch\n",
      "TIMESTEP:75650 STATE:training ACTION_TYPE:Random EPSILON:0.8681013189999772 ACTION:0 REWARD:0.7 Q_MAX:0.0 Loss:0.008281263\n"
     ]
    },
    {
     "data": {
      "image/png": "[encoded data removed]",
      "text/plain": [
       "<PIL.PngImagePlugin.PngImageFile image mode=RGB size=80x80 at 0x7FAFA76197F0>"
      ]
     },
     "metadata": {},
     "output_type": "display_data"
    },
    {
     "data": {
      "image/png": "[encoded data removed]",
      "text/plain": [
       "<PIL.PngImagePlugin.PngImageFile image mode=L size=80x80 at 0x7FAF65C80130>"
      ]
     },
     "metadata": {},
     "output_type": "display_data"
    },
    {
     "data": {
      "image/png": "[encoded data removed]",
      "text/plain": [
       "<PIL.PngImagePlugin.PngImageFile image mode=L size=80x80 at 0x7FAFBD4CFA60>"
      ]
     },
     "metadata": {},
     "output_type": "display_data"
    },
    {
     "name": "stdout",
     "output_type": "stream",
     "text": [
      "We are doing the updated weight by sampling on batch\n",
      "TIMESTEP:75651 STATE:training ACTION_TYPE:Random EPSILON:0.8680013199999772 ACTION:3 REWARD:0.10000000000000003 Q_MAX:0.0 Loss:0.01024136\n"
     ]
    },
    {
     "data": {
      "image/png": "[encoded data removed]",
      "text/plain": [
       "<PIL.PngImagePlugin.PngImageFile image mode=RGB size=80x80 at 0x7FAFA76197F0>"
      ]
     },
     "metadata": {},
     "output_type": "display_data"
    },
    {
     "data": {
      "image/png": "[encoded data removed]",
      "text/plain": [
       "<PIL.PngImagePlugin.PngImageFile image mode=L size=80x80 at 0x7FAF236BC7C0>"
      ]
     },
     "metadata": {},
     "output_type": "display_data"
    },
    {
     "data": {
      "image/png": "[encoded data removed]",
      "text/plain": [
       "<PIL.PngImagePlugin.PngImageFile image mode=L size=80x80 at 0x7FAF236BC7C0>"
      ]
     },
     "metadata": {},
     "output_type": "display_data"
    },
    {
     "ename": "NoSuchWindowException",
     "evalue": "Message: no such window: window was already closed\n  (Session info: chrome=89.0.4389.114)\n",
     "output_type": "error",
     "traceback": [
      "\u001b[0;31m---------------------------------------------------------------------------\u001b[0m",
      "\u001b[0;31mNoSuchWindowException\u001b[0m                     Traceback (most recent call last)",
      "\u001b[0;32m<ipython-input-9-a846a8300097>\u001b[0m in \u001b[0;36m<module>\u001b[0;34m\u001b[0m\n\u001b[0;32m----> 1\u001b[0;31m \u001b[0mtrain_NN\u001b[0m\u001b[0;34m(\u001b[0m\u001b[0mmodel\u001b[0m\u001b[0;34m,\u001b[0m\u001b[0mgame_state\u001b[0m\u001b[0;34m,\u001b[0m\u001b[0mobserve\u001b[0m\u001b[0;34m=\u001b[0m\u001b[0;32mFalse\u001b[0m\u001b[0;34m)\u001b[0m\u001b[0;34m\u001b[0m\u001b[0;34m\u001b[0m\u001b[0m\n\u001b[0m\u001b[1;32m      2\u001b[0m \u001b[0;31m# train_NN(model,game_state,observe=True)\u001b[0m\u001b[0;34m\u001b[0m\u001b[0;34m\u001b[0m\u001b[0;34m\u001b[0m\u001b[0m\n",
      "\u001b[0;32m<ipython-input-7-4ac54fc672d9>\u001b[0m in \u001b[0;36mtrain_NN\u001b[0;34m(model, game_state, observe)\u001b[0m\n\u001b[1;32m     81\u001b[0m \u001b[0;34m\u001b[0m\u001b[0m\n\u001b[1;32m     82\u001b[0m \u001b[0;31m#              Feed new image\u001b[0m\u001b[0;34m\u001b[0m\u001b[0;34m\u001b[0m\u001b[0;34m\u001b[0m\u001b[0m\n\u001b[0;32m---> 83\u001b[0;31m             \u001b[0mimage\u001b[0m\u001b[0;34m,\u001b[0m \u001b[0mreward\u001b[0m\u001b[0;34m,\u001b[0m \u001b[0mis_over\u001b[0m\u001b[0;34m,\u001b[0m \u001b[0mgame_score\u001b[0m \u001b[0;34m=\u001b[0m \u001b[0mgame_state\u001b[0m\u001b[0;34m.\u001b[0m\u001b[0mget_state\u001b[0m\u001b[0;34m(\u001b[0m\u001b[0marray_of_actions\u001b[0m\u001b[0;34m)\u001b[0m\u001b[0;34m\u001b[0m\u001b[0;34m\u001b[0m\u001b[0m\n\u001b[0m\u001b[1;32m     84\u001b[0m             \u001b[0mimage\u001b[0m \u001b[0;34m=\u001b[0m \u001b[0mimage\u001b[0m\u001b[0;34m.\u001b[0m\u001b[0mreshape\u001b[0m\u001b[0;34m(\u001b[0m\u001b[0;36m1\u001b[0m\u001b[0;34m,\u001b[0m \u001b[0mimage\u001b[0m\u001b[0;34m.\u001b[0m\u001b[0mshape\u001b[0m\u001b[0;34m[\u001b[0m\u001b[0;36m0\u001b[0m\u001b[0;34m]\u001b[0m\u001b[0;34m,\u001b[0m \u001b[0mimage\u001b[0m\u001b[0;34m.\u001b[0m\u001b[0mshape\u001b[0m\u001b[0;34m[\u001b[0m\u001b[0;36m1\u001b[0m\u001b[0;34m]\u001b[0m\u001b[0;34m,\u001b[0m \u001b[0;36m1\u001b[0m\u001b[0;34m)\u001b[0m  \u001b[0;31m# 1x80x80x1\u001b[0m\u001b[0;34m\u001b[0m\u001b[0;34m\u001b[0m\u001b[0m\n\u001b[1;32m     85\u001b[0m             \u001b[0;31m# append the new image to input stack and remove the first one\u001b[0m\u001b[0;34m\u001b[0m\u001b[0;34m\u001b[0m\u001b[0;34m\u001b[0m\u001b[0m\n",
      "\u001b[0;32m<ipython-input-6-c3d875d656fb>\u001b[0m in \u001b[0;36mget_state\u001b[0;34m(self, actions)\u001b[0m\n\u001b[1;32m     73\u001b[0m     \u001b[0;32mdef\u001b[0m \u001b[0mget_state\u001b[0m\u001b[0;34m(\u001b[0m\u001b[0mself\u001b[0m\u001b[0;34m,\u001b[0m\u001b[0mactions\u001b[0m\u001b[0;34m)\u001b[0m\u001b[0;34m:\u001b[0m\u001b[0;34m\u001b[0m\u001b[0;34m\u001b[0m\u001b[0m\n\u001b[1;32m     74\u001b[0m         \u001b[0mis_over\u001b[0m \u001b[0;34m=\u001b[0m \u001b[0;32mFalse\u001b[0m\u001b[0;34m\u001b[0m\u001b[0;34m\u001b[0m\u001b[0m\n\u001b[0;32m---> 75\u001b[0;31m         \u001b[0mgame_score\u001b[0m \u001b[0;34m=\u001b[0m \u001b[0mself\u001b[0m\u001b[0;34m.\u001b[0m\u001b[0m_game\u001b[0m\u001b[0;34m.\u001b[0m\u001b[0mget_score\u001b[0m\u001b[0;34m(\u001b[0m\u001b[0;34m)\u001b[0m\u001b[0;34m\u001b[0m\u001b[0;34m\u001b[0m\u001b[0m\n\u001b[0m\u001b[1;32m     76\u001b[0m         \u001b[0mreward\u001b[0m \u001b[0;34m=\u001b[0m \u001b[0;36m0\u001b[0m\u001b[0;34m\u001b[0m\u001b[0;34m\u001b[0m\u001b[0m\n\u001b[1;32m     77\u001b[0m \u001b[0;34m\u001b[0m\u001b[0m\n",
      "\u001b[0;32m<ipython-input-6-c3d875d656fb>\u001b[0m in \u001b[0;36mget_score\u001b[0;34m(self)\u001b[0m\n\u001b[1;32m     24\u001b[0m \u001b[0;34m\u001b[0m\u001b[0m\n\u001b[1;32m     25\u001b[0m     \u001b[0;32mdef\u001b[0m \u001b[0mget_score\u001b[0m\u001b[0;34m(\u001b[0m\u001b[0mself\u001b[0m\u001b[0;34m)\u001b[0m\u001b[0;34m:\u001b[0m\u001b[0;34m\u001b[0m\u001b[0;34m\u001b[0m\u001b[0m\n\u001b[0;32m---> 26\u001b[0;31m         \u001b[0;32mreturn\u001b[0m \u001b[0mint\u001b[0m\u001b[0;34m(\u001b[0m\u001b[0mself\u001b[0m\u001b[0;34m.\u001b[0m\u001b[0m_driver\u001b[0m\u001b[0;34m.\u001b[0m\u001b[0mfind_element_by_id\u001b[0m\u001b[0;34m(\u001b[0m\u001b[0;34m'counter'\u001b[0m\u001b[0;34m)\u001b[0m\u001b[0;34m.\u001b[0m\u001b[0mtext\u001b[0m\u001b[0;34m)\u001b[0m\u001b[0;34m\u001b[0m\u001b[0;34m\u001b[0m\u001b[0m\n\u001b[0m\u001b[1;32m     27\u001b[0m \u001b[0;34m\u001b[0m\u001b[0m\n\u001b[1;32m     28\u001b[0m     \u001b[0;32mdef\u001b[0m \u001b[0mget_crashed\u001b[0m\u001b[0;34m(\u001b[0m\u001b[0mself\u001b[0m\u001b[0;34m)\u001b[0m\u001b[0;34m:\u001b[0m\u001b[0;34m\u001b[0m\u001b[0;34m\u001b[0m\u001b[0m\n",
      "\u001b[0;32m~/opt/anaconda3/envs/csci527/lib/python3.8/site-packages/selenium/webdriver/remote/webdriver.py\u001b[0m in \u001b[0;36mfind_element_by_id\u001b[0;34m(self, id_)\u001b[0m\n\u001b[1;32m    358\u001b[0m             \u001b[0melement\u001b[0m \u001b[0;34m=\u001b[0m \u001b[0mdriver\u001b[0m\u001b[0;34m.\u001b[0m\u001b[0mfind_element_by_id\u001b[0m\u001b[0;34m(\u001b[0m\u001b[0;34m'foo'\u001b[0m\u001b[0;34m)\u001b[0m\u001b[0;34m\u001b[0m\u001b[0;34m\u001b[0m\u001b[0m\n\u001b[1;32m    359\u001b[0m         \"\"\"\n\u001b[0;32m--> 360\u001b[0;31m         \u001b[0;32mreturn\u001b[0m \u001b[0mself\u001b[0m\u001b[0;34m.\u001b[0m\u001b[0mfind_element\u001b[0m\u001b[0;34m(\u001b[0m\u001b[0mby\u001b[0m\u001b[0;34m=\u001b[0m\u001b[0mBy\u001b[0m\u001b[0;34m.\u001b[0m\u001b[0mID\u001b[0m\u001b[0;34m,\u001b[0m \u001b[0mvalue\u001b[0m\u001b[0;34m=\u001b[0m\u001b[0mid_\u001b[0m\u001b[0;34m)\u001b[0m\u001b[0;34m\u001b[0m\u001b[0;34m\u001b[0m\u001b[0m\n\u001b[0m\u001b[1;32m    361\u001b[0m \u001b[0;34m\u001b[0m\u001b[0m\n\u001b[1;32m    362\u001b[0m     \u001b[0;32mdef\u001b[0m \u001b[0mfind_elements_by_id\u001b[0m\u001b[0;34m(\u001b[0m\u001b[0mself\u001b[0m\u001b[0;34m,\u001b[0m \u001b[0mid_\u001b[0m\u001b[0;34m)\u001b[0m\u001b[0;34m:\u001b[0m\u001b[0;34m\u001b[0m\u001b[0;34m\u001b[0m\u001b[0m\n",
      "\u001b[0;32m~/opt/anaconda3/envs/csci527/lib/python3.8/site-packages/selenium/webdriver/remote/webdriver.py\u001b[0m in \u001b[0;36mfind_element\u001b[0;34m(self, by, value)\u001b[0m\n\u001b[1;32m    974\u001b[0m                 \u001b[0mby\u001b[0m \u001b[0;34m=\u001b[0m \u001b[0mBy\u001b[0m\u001b[0;34m.\u001b[0m\u001b[0mCSS_SELECTOR\u001b[0m\u001b[0;34m\u001b[0m\u001b[0;34m\u001b[0m\u001b[0m\n\u001b[1;32m    975\u001b[0m                 \u001b[0mvalue\u001b[0m \u001b[0;34m=\u001b[0m \u001b[0;34m'[name=\"%s\"]'\u001b[0m \u001b[0;34m%\u001b[0m \u001b[0mvalue\u001b[0m\u001b[0;34m\u001b[0m\u001b[0;34m\u001b[0m\u001b[0m\n\u001b[0;32m--> 976\u001b[0;31m         return self.execute(Command.FIND_ELEMENT, {\n\u001b[0m\u001b[1;32m    977\u001b[0m             \u001b[0;34m'using'\u001b[0m\u001b[0;34m:\u001b[0m \u001b[0mby\u001b[0m\u001b[0;34m,\u001b[0m\u001b[0;34m\u001b[0m\u001b[0;34m\u001b[0m\u001b[0m\n\u001b[1;32m    978\u001b[0m             'value': value})['value']\n",
      "\u001b[0;32m~/opt/anaconda3/envs/csci527/lib/python3.8/site-packages/selenium/webdriver/remote/webdriver.py\u001b[0m in \u001b[0;36mexecute\u001b[0;34m(self, driver_command, params)\u001b[0m\n\u001b[1;32m    319\u001b[0m         \u001b[0mresponse\u001b[0m \u001b[0;34m=\u001b[0m \u001b[0mself\u001b[0m\u001b[0;34m.\u001b[0m\u001b[0mcommand_executor\u001b[0m\u001b[0;34m.\u001b[0m\u001b[0mexecute\u001b[0m\u001b[0;34m(\u001b[0m\u001b[0mdriver_command\u001b[0m\u001b[0;34m,\u001b[0m \u001b[0mparams\u001b[0m\u001b[0;34m)\u001b[0m\u001b[0;34m\u001b[0m\u001b[0;34m\u001b[0m\u001b[0m\n\u001b[1;32m    320\u001b[0m         \u001b[0;32mif\u001b[0m \u001b[0mresponse\u001b[0m\u001b[0;34m:\u001b[0m\u001b[0;34m\u001b[0m\u001b[0;34m\u001b[0m\u001b[0m\n\u001b[0;32m--> 321\u001b[0;31m             \u001b[0mself\u001b[0m\u001b[0;34m.\u001b[0m\u001b[0merror_handler\u001b[0m\u001b[0;34m.\u001b[0m\u001b[0mcheck_response\u001b[0m\u001b[0;34m(\u001b[0m\u001b[0mresponse\u001b[0m\u001b[0;34m)\u001b[0m\u001b[0;34m\u001b[0m\u001b[0;34m\u001b[0m\u001b[0m\n\u001b[0m\u001b[1;32m    322\u001b[0m             response['value'] = self._unwrap_value(\n\u001b[1;32m    323\u001b[0m                 response.get('value', None))\n",
      "\u001b[0;32m~/opt/anaconda3/envs/csci527/lib/python3.8/site-packages/selenium/webdriver/remote/errorhandler.py\u001b[0m in \u001b[0;36mcheck_response\u001b[0;34m(self, response)\u001b[0m\n\u001b[1;32m    240\u001b[0m                 \u001b[0malert_text\u001b[0m \u001b[0;34m=\u001b[0m \u001b[0mvalue\u001b[0m\u001b[0;34m[\u001b[0m\u001b[0;34m'alert'\u001b[0m\u001b[0;34m]\u001b[0m\u001b[0;34m.\u001b[0m\u001b[0mget\u001b[0m\u001b[0;34m(\u001b[0m\u001b[0;34m'text'\u001b[0m\u001b[0;34m)\u001b[0m\u001b[0;34m\u001b[0m\u001b[0;34m\u001b[0m\u001b[0m\n\u001b[1;32m    241\u001b[0m             \u001b[0;32mraise\u001b[0m \u001b[0mexception_class\u001b[0m\u001b[0;34m(\u001b[0m\u001b[0mmessage\u001b[0m\u001b[0;34m,\u001b[0m \u001b[0mscreen\u001b[0m\u001b[0;34m,\u001b[0m \u001b[0mstacktrace\u001b[0m\u001b[0;34m,\u001b[0m \u001b[0malert_text\u001b[0m\u001b[0;34m)\u001b[0m\u001b[0;34m\u001b[0m\u001b[0;34m\u001b[0m\u001b[0m\n\u001b[0;32m--> 242\u001b[0;31m         \u001b[0;32mraise\u001b[0m \u001b[0mexception_class\u001b[0m\u001b[0;34m(\u001b[0m\u001b[0mmessage\u001b[0m\u001b[0;34m,\u001b[0m \u001b[0mscreen\u001b[0m\u001b[0;34m,\u001b[0m \u001b[0mstacktrace\u001b[0m\u001b[0;34m)\u001b[0m\u001b[0;34m\u001b[0m\u001b[0;34m\u001b[0m\u001b[0m\n\u001b[0m\u001b[1;32m    243\u001b[0m \u001b[0;34m\u001b[0m\u001b[0m\n\u001b[1;32m    244\u001b[0m     \u001b[0;32mdef\u001b[0m \u001b[0m_value_or_default\u001b[0m\u001b[0;34m(\u001b[0m\u001b[0mself\u001b[0m\u001b[0;34m,\u001b[0m \u001b[0mobj\u001b[0m\u001b[0;34m,\u001b[0m \u001b[0mkey\u001b[0m\u001b[0;34m,\u001b[0m \u001b[0mdefault\u001b[0m\u001b[0;34m)\u001b[0m\u001b[0;34m:\u001b[0m\u001b[0;34m\u001b[0m\u001b[0;34m\u001b[0m\u001b[0m\n",
      "\u001b[0;31mNoSuchWindowException\u001b[0m: Message: no such window: window was already closed\n  (Session info: chrome=89.0.4389.114)\n"
     ]
    }
   ],
   "source": [
    "train_NN(model,game_state,observe=False)\n",
    "# train_NN(model,game_state,observe=True)"
   ]
  },
  {
   "cell_type": "code",
   "execution_count": null,
   "id": "forbidden-funds",
   "metadata": {},
   "outputs": [],
   "source": [
    "# image = cv.imread(\"../screenshot/test.png\")\n",
    "# image = cv.cvtColor(image, cv.COLOR_BGR2GRAY)\n",
    "# image = cv.Canny(image, threshold1 = 100, threshold2 = 200) \n",
    "# cv.imwrite(\"../screenshot/result_test.png\", image)\n",
    "# #     image = image[100:830, 850:1580]\n",
    "# #     image = image[240:650, 1000:1400] \n",
    "# #     image = image[200:700, 950:1450] \n",
    "# #     image = cv.resize(image, (80,80))\n",
    "# #     cv.imwrite(screenshot_80, image) \n",
    "# #     image = cv.cvtColor(image, cv.COLOR_BGR2GRAY)\n",
    "# #     cv.imwrite(screenshot_grey, image)\n",
    "# #     image = cv.Canny(image, threshold1 = 100, threshold2 = 200) \n",
    "# #     cv.imwrite(screenshot_canny, image)"
   ]
  },
  {
   "cell_type": "code",
   "execution_count": null,
   "id": "caroline-bhutan",
   "metadata": {},
   "outputs": [],
   "source": [
    "# image = cv.imread('Picture1.png')\n",
    "\n",
    "# # image = image[200:700, 950:1450] \n",
    "# # image = cv.resize(image, (80,80))\n",
    "# # cv.imwrite(screenshot_80, image) \n",
    "# image = cv.cvtColor(image, cv.COLOR_BGR2GRAY)\n",
    "# cv.imwrite('../screenshot/Picture1_grey.png', image)\n",
    "# image = cv.Canny(image, threshold1 = 100, threshold2 = 200) \n",
    "# cv.imwrite('../screenshot/Picture1_canny.png', image)"
   ]
  },
  {
   "cell_type": "code",
   "execution_count": 5,
   "id": "dynamic-court",
   "metadata": {},
   "outputs": [],
   "source": [
    "result = pd.read_csv(episode_file_path)"
   ]
  },
  {
   "cell_type": "code",
   "execution_count": 6,
   "id": "republican-teach",
   "metadata": {},
   "outputs": [
    {
     "data": {
      "image/png": "[encoded data removed]",
      "text/plain": [
       "<Figure size 720x360 with 1 Axes>"
      ]
     },
     "metadata": {
      "needs_background": "light"
     },
     "output_type": "display_data"
    }
   ],
   "source": [
    "import matplotlib.pyplot as plt\n",
    "import pandas as pd\n",
    "\n",
    "\n",
    "result.plot(x='episodes', y='score' ,figsize=(10,5), grid=False)\n",
    "plt.yticks(np.arange(0, 20, 1))\n",
    "plt.show()"
   ]
  },
  {
   "cell_type": "code",
   "execution_count": 7,
   "id": "atomic-turner",
   "metadata": {},
   "outputs": [
    {
     "data": {
      "text/plain": [
       "8"
      ]
     },
     "execution_count": 7,
     "metadata": {},
     "output_type": "execute_result"
    }
   ],
   "source": [
    "max(result['score'])"
   ]
  },
  {
   "cell_type": "code",
   "execution_count": null,
   "id": "still-charm",
   "metadata": {},
   "outputs": [],
   "source": []
  }
 ],
 "metadata": {
  "kernelspec": {
   "display_name": "Python 3",
   "language": "python",
   "name": "python3"
  },
  "language_info": {
   "codemirror_mode": {
    "name": "ipython",
    "version": 3
   },
   "file_extension": ".py",
   "mimetype": "text/x-python",
   "name": "python",
   "nbconvert_exporter": "python",
   "pygments_lexer": "ipython3",
   "version": "3.8.5"
  }
 },
 "nbformat": 4,
 "nbformat_minor": 5
}
